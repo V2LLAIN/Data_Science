{
 "cells": [
  {
   "cell_type": "markdown",
   "metadata": {
    "papermill": {
     "duration": 0.012455,
     "end_time": "2022-08-31T07:01:57.321119",
     "exception": false,
     "start_time": "2022-08-31T07:01:57.308664",
     "status": "completed"
    },
    "tags": []
   },
   "source": [
    "<img src=\"https://i.imgur.com/Y1CTNy9.jpeg\">\n",
    "\n",
    "# <b><span style='color:#F1A424'>|</span> DAIGT: <span style='color:#F1A424'>Text Classification</span><span style='color:#ABABAB'> [Train]</span></b> \n",
    "\n",
    "***\n",
    "\n",
    "Your goal in this competition is to differentiate essays written by students from essays written by AI, like ChatGPT for instance. The competition provides only student-generated data. Because of this, we will use the dataset I created which contains both 2421 student-generated essays as well as 2421 AI-generated essays, more than 4 times the original data.\n",
    "\n",
    "In this notebook you will learn how to train a `deberta-v3-base` model for text classification using PyTorch. Hope you enjoy it and find it useful.\n",
    "\n",
    "### <b><span style='color:#F1A424'>Table of Contents</span></b> <a class='anchor' id='top'></a>\n",
    "<div style=\" background-color:#3b3745; padding: 13px 13px; border-radius: 8px; color: white\">\n",
    "<li> <a href=\"#introduction\">Introduction</a></li>\n",
    "<li> <a href=\"#install_libraries\">Install libraries</a></li>\n",
    "<li><a href=\"#import_libraries\">Import Libraries</a></li>\n",
    "<li><a href=\"#configuration\">Configuration</a></li>\n",
    "<li><a href=\"#utils\">Utils</a></li>\n",
    "<li><a href=\"#load_data\">Load Data</a></li>\n",
    "<li><a href=\"#validation\">Validation</a></li>\n",
    "<li><a href=\"#dataset\">Tokenizer</a></li>\n",
    "<li><a href=\"#dataset\">Dataset</a></li>\n",
    "<li><a href=\"#model\">Model</a></li>\n",
    "<li><a href=\"#loss\">Loss Function</a></li>\n",
    "<li><a href=\"#functions\">Train and Validation Functions</a></li>\n",
    "<li><a href=\"#train_loop\">Train Loop</a></li>\n",
    "<li><a href=\"#train\">Train</a></li>\n",
    "</div>\n",
    "\n",
    "\n",
    "# <b><span style='color:#F1A424'>|</span> Introduction</b><a class='anchor' id='introduction'></a> [↑](#top) \n",
    "\n",
    "***\n",
    "\n",
    "### <b><span style='color:#F1A424'>Useful References</span></b>\n",
    "\n",
    "- [DAIGT | Deberta Text Classification [Inference]](https://www.kaggle.com/alejopaullier/daigt-deberta-text-classification-train)\n",
    "- [Y.Nakama | FB3 / Deberta-v3-base baseline [train]](https://www.kaggle.com/code/yasufuminakama/fb3-deberta-v3-base-baseline-train)\n",
    "- [Y.Nakama | FB3 / Deberta-v3-base baseline [inference]](https://www.kaggle.com/code/yasufuminakama/fb3-deberta-v3-base-baseline-inference/notebook)\n",
    "- [Deberta v3 Hugging Face](https://huggingface.co/microsoft/deberta-v3-base)\n",
    "- [Deberta paper](https://arxiv.org/abs/2006.03654)"
   ]
  },
  {
   "cell_type": "markdown",
   "metadata": {},
   "source": [
    "# <b><span style='color:#F1A424'>|</span> Import Libraries</b><a class='anchor' id='import_libraries'></a> [↑](#top) \n",
    "\n",
    "***\n",
    "\n",
    "Import all the required libraries for this notebook."
   ]
  },
  {
   "cell_type": "code",
   "execution_count": 1,
   "metadata": {
    "scrolled": true
   },
   "outputs": [
    {
     "name": "stdout",
     "output_type": "stream",
     "text": [
      "Archive:  kaggle.zip\n",
      "   creating: kaggle/\n",
      "  inflating: kaggle/.DS_Store        \n",
      "  inflating: __MACOSX/kaggle/._.DS_Store  \n",
      "   creating: kaggle/input/\n",
      "   creating: kaggle/working/\n",
      "  inflating: kaggle/input/.DS_Store  \n",
      "  inflating: __MACOSX/kaggle/input/._.DS_Store  \n",
      "  inflating: kaggle/input/submission.csv  \n",
      "  inflating: __MACOSX/kaggle/input/._submission.csv  \n",
      "   creating: kaggle/input/daigt-models/\n",
      "   creating: kaggle/input/daigt-external-dataset/\n",
      "   creating: kaggle/input/llm-detect-ai-generated-text/\n",
      "  inflating: kaggle/input/sample_submission.csv  \n",
      "  inflating: __MACOSX/kaggle/input/._sample_submission.csv  \n",
      "  inflating: kaggle/working/.DS_Store  \n",
      "  inflating: __MACOSX/kaggle/working/._.DS_Store  \n",
      "   creating: kaggle/working/output/\n",
      "  inflating: kaggle/input/daigt-models/.DS_Store  \n",
      "  inflating: __MACOSX/kaggle/input/daigt-models/._.DS_Store  \n",
      "   creating: kaggle/input/daigt-models/model_v2/\n",
      "  inflating: kaggle/input/daigt-external-dataset/daigt_external_dataset.csv  \n",
      "  inflating: __MACOSX/kaggle/input/daigt-external-dataset/._daigt_external_dataset.csv  \n",
      "  inflating: kaggle/input/llm-detect-ai-generated-text/.DS_Store  \n",
      "  inflating: __MACOSX/kaggle/input/llm-detect-ai-generated-text/._.DS_Store  \n",
      "  inflating: kaggle/input/llm-detect-ai-generated-text/train_prompts.csv  \n",
      "  inflating: __MACOSX/kaggle/input/llm-detect-ai-generated-text/._train_prompts.csv  \n",
      "  inflating: kaggle/input/llm-detect-ai-generated-text/test_essays.csv  \n",
      "  inflating: __MACOSX/kaggle/input/llm-detect-ai-generated-text/._test_essays.csv  \n",
      "  inflating: kaggle/input/llm-detect-ai-generated-text/train_essays.csv  \n",
      "  inflating: __MACOSX/kaggle/input/llm-detect-ai-generated-text/._train_essays.csv  \n",
      "  inflating: kaggle/input/llm-detect-ai-generated-text/sample_submission.csv  \n",
      "  inflating: __MACOSX/kaggle/input/llm-detect-ai-generated-text/._sample_submission.csv  \n",
      "  inflating: kaggle/working/output/.DS_Store  \n",
      "  inflating: __MACOSX/kaggle/working/output/._.DS_Store  \n",
      "   creating: kaggle/working/output/tokenizer/\n",
      "  inflating: kaggle/input/daigt-models/model_v2/.DS_Store  \n",
      "  inflating: __MACOSX/kaggle/input/daigt-models/model_v2/._.DS_Store  \n",
      "   creating: kaggle/input/daigt-models/model_v2/content/\n",
      "  inflating: kaggle/working/output/tokenizer/.DS_Store  \n",
      "  inflating: __MACOSX/kaggle/working/output/tokenizer/._.DS_Store  \n",
      "  inflating: kaggle/input/daigt-models/model_v2/content/.DS_Store  \n",
      "  inflating: __MACOSX/kaggle/input/daigt-models/model_v2/content/._.DS_Store  \n",
      "   creating: kaggle/input/daigt-models/model_v2/content/output/\n",
      "  inflating: kaggle/input/daigt-models/model_v2/content/output/.DS_Store  \n",
      "  inflating: __MACOSX/kaggle/input/daigt-models/model_v2/content/output/._.DS_Store  \n"
     ]
    }
   ],
   "source": [
    "!unzip kaggle.zip"
   ]
  },
  {
   "cell_type": "code",
   "execution_count": 2,
   "metadata": {
    "_kg_hide-input": true
   },
   "outputs": [
    {
     "name": "stdout",
     "output_type": "stream",
     "text": [
      "Current device is: cuda\n"
     ]
    }
   ],
   "source": [
    "import ast\n",
    "import copy\n",
    "import gc\n",
    "import itertools\n",
    "import joblib\n",
    "import json\n",
    "import math\n",
    "import matplotlib.pyplot as plt\n",
    "import multiprocessing\n",
    "import numpy as np\n",
    "import os\n",
    "import pandas as pd\n",
    "import pickle\n",
    "import random\n",
    "import re\n",
    "import scipy as sp\n",
    "import string\n",
    "import sys\n",
    "import time\n",
    "import warnings\n",
    "import wandb\n",
    "\n",
    "\n",
    "from sklearn.metrics import roc_auc_score\n",
    "from sklearn.utils import shuffle\n",
    "from sklearn.model_selection import StratifiedKFold, GroupKFold, KFold\n",
    "import torch\n",
    "import torch.nn as nn\n",
    "from torch.nn import Parameter\n",
    "import torch.nn.functional as F\n",
    "from torch.optim import Adam, SGD, AdamW\n",
    "from torch.optim.lr_scheduler import OneCycleLR\n",
    "from torch.utils.data import DataLoader, Dataset\n",
    "from tqdm.auto import tqdm\n",
    "\n",
    "# ======= OPTIONS =========\n",
    "pd.set_option('display.max_rows', 500)\n",
    "pd.set_option('display.max_columns', 500)\n",
    "pd.set_option('display.width', 1000)\n",
    "device = torch.device('cuda' if torch.cuda.is_available() else 'cpu')\n",
    "print(f\"Current device is: {device}\")\n",
    "warnings.filterwarnings(\"ignore\")\n",
    "!mkdir output"
   ]
  },
  {
   "cell_type": "markdown",
   "metadata": {},
   "source": [
    "### <b><span style='color:#F1A424'>Tokenizers and transformers</span></b>"
   ]
  },
  {
   "cell_type": "code",
   "execution_count": 3,
   "metadata": {
    "_kg_hide-input": true,
    "_kg_hide-output": true
   },
   "outputs": [
    {
     "name": "stdout",
     "output_type": "stream",
     "text": [
      "env: TOKENIZERS_PARALLELISM=true\n",
      "tokenizers.__version__: 0.14.1\n",
      "transformers.__version__: 4.34.1\n"
     ]
    }
   ],
   "source": [
    "import tokenizers\n",
    "import transformers\n",
    "from transformers import AutoTokenizer, AutoModel, AutoConfig\n",
    "from transformers import get_linear_schedule_with_warmup, get_cosine_schedule_with_warmup\n",
    "%env TOKENIZERS_PARALLELISM=true\n",
    "print(f\"tokenizers.__version__: {tokenizers.__version__}\")\n",
    "print(f\"transformers.__version__: {transformers.__version__}\")"
   ]
  },
  {
   "cell_type": "markdown",
   "metadata": {
    "papermill": {
     "duration": 0.006569,
     "end_time": "2022-08-31T07:01:57.395826",
     "exception": false,
     "start_time": "2022-08-31T07:01:57.389257",
     "status": "completed"
    },
    "tags": []
   },
   "source": [
    "# <b><span style='color:#F1A424'>|</span> Configuration</b><a class='anchor' id='configuration'></a> [↑](#top) \n",
    "\n",
    "***\n",
    "\n",
    "Central repository for this notebook's hyperparameters."
   ]
  },
  {
   "cell_type": "code",
   "execution_count": 4,
   "metadata": {
    "papermill": {
     "duration": 0.015868,
     "end_time": "2022-08-31T07:01:57.417077",
     "exception": false,
     "start_time": "2022-08-31T07:01:57.401209",
     "status": "completed"
    },
    "tags": []
   },
   "outputs": [],
   "source": [
    "class config:\n",
    "    APEX = True # Automatic Precision Enabled\n",
    "    BATCH_SCHEDULER = True\n",
    "    BATCH_SIZE_TRAIN = 32\n",
    "    BATCH_SIZE_VALID = 16\n",
    "    BETAS = (0.9, 0.999)\n",
    "    DEBUG = False\n",
    "    DECODER_LR = 2e-5\n",
    "    ENCODER_LR = 2e-5\n",
    "    EPOCHS = 5\n",
    "    EPS = 1e-6\n",
    "    FOLDS = 4\n",
    "    GRADIENT_ACCUMULATION_STEPS = 1\n",
    "    GRADIENT_CHECKPOINTING = True\n",
    "    MAX_GRAD_NORM=1000\n",
    "    MAX_LEN = 512\n",
    "    MIN_LR = 1e-6\n",
    "    MODEL = \"bettertextapp/gpt2-large-detector-de-v1\"\n",
    "    NUM_CYCLES = 0.5\n",
    "    NUM_WARMUP_STEPS = 0\n",
    "    NUM_WORKERS = multiprocessing.cpu_count()\n",
    "    PRINT_FREQ = 20\n",
    "    SCHEDULER = 'cosine' # ['linear', 'cosine']\n",
    "    SEED = 27\n",
    "    TRAIN = True\n",
    "    TRAIN_FOLDS = [0, 1, 2, 3]\n",
    "    WANDB = False\n",
    "    WEIGHT_DECAY = 0.01\n",
    "\n",
    "    \n",
    "class paths:\n",
    "    OUTPUT_DIR = \"./kaggle/working/output\"\n",
    "    EXTERNAL_DATA = \"./kaggle/input/daigt-external-dataset/daigt_external_dataset.csv\"\n",
    "    TRAIN_PROMPTS = \"./kaggle/input/llm-detect-ai-generated-text/train_prompts.csv\"\n",
    "    TRAIN_ESSAYS = \"./kaggle/input/llm-detect-ai-generated-text/train_essays.csv\"\n",
    "    TEST_ESSAYS = \"./kaggle/input/llm-detect-ai-generated-text/test_essays.csv\"\n",
    "    \n",
    "\n",
    "if config.DEBUG:\n",
    "    config.EPOCHS = 2\n",
    "    config.TRAIN_FOLDS = [0]"
   ]
  },
  {
   "cell_type": "markdown",
   "metadata": {
    "papermill": {
     "duration": 0.007998,
     "end_time": "2022-08-31T07:03:04.079768",
     "exception": false,
     "start_time": "2022-08-31T07:03:04.07177",
     "status": "completed"
    },
    "tags": []
   },
   "source": [
    "# <b><span style='color:#F1A424'>|</span> Utils</b><a class='anchor' id='utils'></a> [↑](#top) \n",
    "\n",
    "***\n",
    "\n",
    "Utility functions used throughout the notebook."
   ]
  },
  {
   "cell_type": "code",
   "execution_count": 5,
   "metadata": {
    "papermill": {
     "duration": 0.024132,
     "end_time": "2022-08-31T07:03:04.111108",
     "exception": false,
     "start_time": "2022-08-31T07:03:04.086976",
     "status": "completed"
    },
    "tags": []
   },
   "outputs": [],
   "source": [
    "def get_config_dict(config):\n",
    "    \"\"\"\n",
    "    Return the config, which is originally a class, as a Python dictionary.\n",
    "    \"\"\"\n",
    "    config_dict = dict((key, value) for key, value in config.__dict__.items() \n",
    "    if not callable(value) and not key.startswith('__'))\n",
    "    return config_dict\n",
    "\n",
    "\n",
    "def get_optimizer_params(model, encoder_lr, decoder_lr, weight_decay=0.0):\n",
    "    param_optimizer = list(model.named_parameters())\n",
    "    no_decay = [\"bias\", \"LayerNorm.bias\", \"LayerNorm.weight\"]\n",
    "    optimizer_parameters = [\n",
    "        {'params': [p for n, p in model.model.named_parameters() if not any(nd in n for nd in no_decay)],\n",
    "         'lr': encoder_lr, 'weight_decay': weight_decay},\n",
    "        {'params': [p for n, p in model.model.named_parameters() if any(nd in n for nd in no_decay)],\n",
    "         'lr': encoder_lr, 'weight_decay': 0.0},\n",
    "        {'params': [p for n, p in model.named_parameters() if \"model\" not in n],\n",
    "         'lr': decoder_lr, 'weight_decay': 0.0}\n",
    "    ]\n",
    "    return optimizer_parameters\n",
    "\n",
    "\n",
    "def get_logger(filename=paths.OUTPUT_DIR):\n",
    "    from logging import getLogger, INFO, StreamHandler, FileHandler, Formatter\n",
    "    logger = getLogger(__name__)\n",
    "    logger.setLevel(INFO)\n",
    "    handler1 = StreamHandler()\n",
    "    handler1.setFormatter(Formatter(\"%(message)s\"))\n",
    "    handler2 = FileHandler(filename=f\"{filename}.log\")\n",
    "    handler2.setFormatter(Formatter(\"%(message)s\"))\n",
    "    logger.addHandler(handler1)\n",
    "    logger.addHandler(handler2)\n",
    "    return logger\n",
    "\n",
    "\n",
    "def get_scheduler(cfg, optimizer, num_train_steps):\n",
    "    if cfg.SCHEDULER == 'linear':\n",
    "        scheduler = get_linear_schedule_with_warmup(\n",
    "            optimizer, num_warmup_steps=cfg.NUM_WARMUP_STEPS,\n",
    "            num_training_steps=num_train_steps\n",
    "        )\n",
    "    elif cfg.SCHEDULER == 'cosine':\n",
    "        scheduler = get_cosine_schedule_with_warmup(\n",
    "            optimizer, num_warmup_steps=cfg.NUM_WARMUP_STEPS,\n",
    "            num_training_steps=num_train_steps, num_cycles=cfg.NUM_CYCLES\n",
    "        )\n",
    "    return scheduler\n",
    "    \n",
    "\n",
    "def get_score(y_trues, y_preds):\n",
    "    score = roc_auc_score(y_trues, y_preds)\n",
    "    return score\n",
    "\n",
    "\n",
    "def seed_everything(seed=20):\n",
    "    \"\"\"Seed everything to ensure reproducibility\"\"\"\n",
    "    random.seed(seed)\n",
    "    os.environ['PYTHONHASHSEED'] = str(seed)\n",
    "    np.random.seed(seed)\n",
    "    torch.manual_seed(seed)\n",
    "    torch.cuda.manual_seed(seed)\n",
    "    torch.backends.cudnn.deterministic = True\n",
    "    \n",
    "\n",
    "def sep():\n",
    "    print(\"-\"*100)\n",
    "    \n",
    "    \n",
    "def sigmoid(x):\n",
    "    return 1 / (1 + np.exp(-x))  \n",
    "    \n",
    "LOGGER = get_logger()\n",
    "seed_everything(seed=config.SEED)"
   ]
  },
  {
   "cell_type": "markdown",
   "metadata": {},
   "source": [
    "# <b><span style='color:#F1A424'>|</span> Weights and Biases 🐝</b><a class='anchor' id='wandb'></a> [↑](#top) \n",
    "\n",
    "***\n",
    "\n",
    "Weights and Biases for tracking experiments. Change the `WANDB` flag in the configuration class if you want to track your experiments."
   ]
  },
  {
   "cell_type": "code",
   "execution_count": 6,
   "metadata": {},
   "outputs": [],
   "source": [
    "import wandb\n",
    "\n",
    "notes = \"\"\n",
    "\n",
    "if config.WANDB:\n",
    "    try:\n",
    "        from kaggle_secrets import UserSecretsClient\n",
    "        user_secrets = UserSecretsClient()\n",
    "        wandb.login(key='eed81e1c0a41dd8dd67a4ca90cea1be5a06d4eb0')\n",
    "        anony = None\n",
    "    except:\n",
    "        anony = \"must\"\n",
    "        print('If you want to use your W&B account, go to Add-ons -> Secrets and provide your W&B access token. Use the Label name as wandb_api. \\nGet your W&B access token from here: https://wandb.ai/authorize')\n",
    "\n",
    "    run = wandb.init(project='DS_Termproject', \n",
    "                     name=\"DeBERTa\",\n",
    "                     entity='hcim',\n",
    "                     config=get_config_dict(config),\n",
    "                     job_type=\"train\",\n",
    "                     notes=notes,\n",
    "                     anonymous=anony)"
   ]
  },
  {
   "cell_type": "markdown",
   "metadata": {
    "papermill": {
     "duration": 0.012589,
     "end_time": "2022-08-31T07:03:04.13341",
     "exception": false,
     "start_time": "2022-08-31T07:03:04.120821",
     "status": "completed"
    },
    "tags": []
   },
   "source": [
    "# <b><span style='color:#F1A424'>|</span> Load Data</b><a class='anchor' id='load_data'></a> [↑](#top) \n",
    "\n",
    "***\n",
    "\n",
    "Load data."
   ]
  },
  {
   "cell_type": "code",
   "execution_count": 7,
   "metadata": {
    "papermill": {
     "duration": 0.242687,
     "end_time": "2022-08-31T07:03:04.383434",
     "exception": false,
     "start_time": "2022-08-31T07:03:04.140747",
     "status": "completed"
    },
    "tags": []
   },
   "outputs": [
    {
     "name": "stdout",
     "output_type": "stream",
     "text": [
      "Train essays dataframe has shape: (1378, 4)\n",
      "----------------------------------------------------------------------------------------------------\n",
      "External essays dataframe has shape: (2421, 4)\n",
      "----------------------------------------------------------------------------------------------------\n",
      "Train prompts dataframe has shape: (2, 4)\n",
      "----------------------------------------------------------------------------------------------------\n"
     ]
    },
    {
     "data": {
      "text/html": [
       "<div>\n",
       "<style scoped>\n",
       "    .dataframe tbody tr th:only-of-type {\n",
       "        vertical-align: middle;\n",
       "    }\n",
       "\n",
       "    .dataframe tbody tr th {\n",
       "        vertical-align: top;\n",
       "    }\n",
       "\n",
       "    .dataframe thead th {\n",
       "        text-align: right;\n",
       "    }\n",
       "</style>\n",
       "<table border=\"1\" class=\"dataframe\">\n",
       "  <thead>\n",
       "    <tr style=\"text-align: right;\">\n",
       "      <th></th>\n",
       "      <th>id</th>\n",
       "      <th>prompt_id</th>\n",
       "      <th>text</th>\n",
       "      <th>generated</th>\n",
       "    </tr>\n",
       "  </thead>\n",
       "  <tbody>\n",
       "    <tr>\n",
       "      <th>0</th>\n",
       "      <td>0059830c</td>\n",
       "      <td>0</td>\n",
       "      <td>Cars. Cars have been around since they became ...</td>\n",
       "      <td>0</td>\n",
       "    </tr>\n",
       "    <tr>\n",
       "      <th>1</th>\n",
       "      <td>005db917</td>\n",
       "      <td>0</td>\n",
       "      <td>Transportation is a large necessity in most co...</td>\n",
       "      <td>0</td>\n",
       "    </tr>\n",
       "    <tr>\n",
       "      <th>2</th>\n",
       "      <td>008f63e3</td>\n",
       "      <td>0</td>\n",
       "      <td>\"America's love affair with it's vehicles seem...</td>\n",
       "      <td>0</td>\n",
       "    </tr>\n",
       "    <tr>\n",
       "      <th>3</th>\n",
       "      <td>00940276</td>\n",
       "      <td>0</td>\n",
       "      <td>How often do you ride in a car? Do you drive a...</td>\n",
       "      <td>0</td>\n",
       "    </tr>\n",
       "    <tr>\n",
       "      <th>4</th>\n",
       "      <td>00c39458</td>\n",
       "      <td>0</td>\n",
       "      <td>Cars are a wonderful thing. They are perhaps o...</td>\n",
       "      <td>0</td>\n",
       "    </tr>\n",
       "  </tbody>\n",
       "</table>\n",
       "</div>"
      ],
      "text/plain": [
       "         id  prompt_id                                               text  generated\n",
       "0  0059830c          0  Cars. Cars have been around since they became ...          0\n",
       "1  005db917          0  Transportation is a large necessity in most co...          0\n",
       "2  008f63e3          0  \"America's love affair with it's vehicles seem...          0\n",
       "3  00940276          0  How often do you ride in a car? Do you drive a...          0\n",
       "4  00c39458          0  Cars are a wonderful thing. They are perhaps o...          0"
      ]
     },
     "metadata": {},
     "output_type": "display_data"
    },
    {
     "data": {
      "text/html": [
       "<div>\n",
       "<style scoped>\n",
       "    .dataframe tbody tr th:only-of-type {\n",
       "        vertical-align: middle;\n",
       "    }\n",
       "\n",
       "    .dataframe tbody tr th {\n",
       "        vertical-align: top;\n",
       "    }\n",
       "\n",
       "    .dataframe thead th {\n",
       "        text-align: right;\n",
       "    }\n",
       "</style>\n",
       "<table border=\"1\" class=\"dataframe\">\n",
       "  <thead>\n",
       "    <tr style=\"text-align: right;\">\n",
       "      <th></th>\n",
       "      <th>id</th>\n",
       "      <th>text</th>\n",
       "      <th>instructions</th>\n",
       "      <th>source_text</th>\n",
       "    </tr>\n",
       "  </thead>\n",
       "  <tbody>\n",
       "    <tr>\n",
       "      <th>0</th>\n",
       "      <td>6060D28C05B6</td>\n",
       "      <td>Some schools in United States ofter classes fr...</td>\n",
       "      <td>\\nTask: Write a persuasive essay on whether or...</td>\n",
       "      <td>\\nWhen considering the pros and cons of attend...</td>\n",
       "    </tr>\n",
       "    <tr>\n",
       "      <th>1</th>\n",
       "      <td>60623DB5DE7A</td>\n",
       "      <td>Four-day work week, a remarkable idea to conse...</td>\n",
       "      <td>\\nTask: Research the advantages and disadvanta...</td>\n",
       "      <td>\\nOne of the primary arguments for implementin...</td>\n",
       "    </tr>\n",
       "    <tr>\n",
       "      <th>2</th>\n",
       "      <td>607A39D981DE</td>\n",
       "      <td>Students and their families should consider an...</td>\n",
       "      <td>\\nTask: \\n\\n1. Talk to your parents before tak...</td>\n",
       "      <td>\\nBefore making any decisions about getting in...</td>\n",
       "    </tr>\n",
       "    <tr>\n",
       "      <th>3</th>\n",
       "      <td>60ACDFA1609E</td>\n",
       "      <td>Agree you will never grow if something beyond ...</td>\n",
       "      <td>\\nTask: Write an essay discussing the benefits...</td>\n",
       "      <td>\\nRalph Waldo Emerson once said, \"Go confident...</td>\n",
       "    </tr>\n",
       "    <tr>\n",
       "      <th>4</th>\n",
       "      <td>60AE13D3F07B</td>\n",
       "      <td>I think our character traits are formed by inf...</td>\n",
       "      <td>\\nTask: Research and discuss how character tra...</td>\n",
       "      <td>\\nHuman character traits are shaped by a wide ...</td>\n",
       "    </tr>\n",
       "  </tbody>\n",
       "</table>\n",
       "</div>"
      ],
      "text/plain": [
       "             id                                               text                                       instructions                                        source_text\n",
       "0  6060D28C05B6  Some schools in United States ofter classes fr...  \\nTask: Write a persuasive essay on whether or...  \\nWhen considering the pros and cons of attend...\n",
       "1  60623DB5DE7A  Four-day work week, a remarkable idea to conse...  \\nTask: Research the advantages and disadvanta...  \\nOne of the primary arguments for implementin...\n",
       "2  607A39D981DE  Students and their families should consider an...  \\nTask: \\n\\n1. Talk to your parents before tak...  \\nBefore making any decisions about getting in...\n",
       "3  60ACDFA1609E  Agree you will never grow if something beyond ...  \\nTask: Write an essay discussing the benefits...  \\nRalph Waldo Emerson once said, \"Go confident...\n",
       "4  60AE13D3F07B  I think our character traits are formed by inf...  \\nTask: Research and discuss how character tra...  \\nHuman character traits are shaped by a wide ..."
      ]
     },
     "metadata": {},
     "output_type": "display_data"
    },
    {
     "data": {
      "text/html": [
       "<div>\n",
       "<style scoped>\n",
       "    .dataframe tbody tr th:only-of-type {\n",
       "        vertical-align: middle;\n",
       "    }\n",
       "\n",
       "    .dataframe tbody tr th {\n",
       "        vertical-align: top;\n",
       "    }\n",
       "\n",
       "    .dataframe thead th {\n",
       "        text-align: right;\n",
       "    }\n",
       "</style>\n",
       "<table border=\"1\" class=\"dataframe\">\n",
       "  <thead>\n",
       "    <tr style=\"text-align: right;\">\n",
       "      <th></th>\n",
       "      <th>prompt_id</th>\n",
       "      <th>prompt_name</th>\n",
       "      <th>instructions</th>\n",
       "      <th>source_text</th>\n",
       "    </tr>\n",
       "  </thead>\n",
       "  <tbody>\n",
       "    <tr>\n",
       "      <th>0</th>\n",
       "      <td>0</td>\n",
       "      <td>Car-free cities</td>\n",
       "      <td>Write an explanatory essay to inform fellow ci...</td>\n",
       "      <td># In German Suburb, Life Goes On Without Cars ...</td>\n",
       "    </tr>\n",
       "    <tr>\n",
       "      <th>1</th>\n",
       "      <td>1</td>\n",
       "      <td>Does the electoral college work?</td>\n",
       "      <td>Write a letter to your state senator in which ...</td>\n",
       "      <td># What Is the Electoral College? by the Office...</td>\n",
       "    </tr>\n",
       "  </tbody>\n",
       "</table>\n",
       "</div>"
      ],
      "text/plain": [
       "   prompt_id                       prompt_name                                       instructions                                        source_text\n",
       "0          0                   Car-free cities  Write an explanatory essay to inform fellow ci...  # In German Suburb, Life Goes On Without Cars ...\n",
       "1          1  Does the electoral college work?  Write a letter to your state senator in which ...  # What Is the Electoral College? by the Office..."
      ]
     },
     "metadata": {},
     "output_type": "display_data"
    }
   ],
   "source": [
    "train_df = pd.read_csv(paths.TRAIN_ESSAYS, sep=',')\n",
    "external_df = pd.read_csv(paths.EXTERNAL_DATA, sep=',')\n",
    "train_prompts = pd.read_csv(paths.TRAIN_PROMPTS, sep=',')\n",
    "print(f\"Train essays dataframe has shape: {train_df.shape}\"), sep()\n",
    "print(f\"External essays dataframe has shape: {external_df.shape}\"), sep()\n",
    "print(f\"Train prompts dataframe has shape: {train_prompts.shape}\"), sep()\n",
    "display(train_df.head())\n",
    "display(external_df.head())\n",
    "display(train_prompts.head())"
   ]
  },
  {
   "cell_type": "markdown",
   "metadata": {},
   "source": [
    "### <b><span style='color:#F1A424'>Add External Data</span></b>\n",
    "\n",
    "We will use the external data to train our model:\n",
    "- `source_text` is AI-generated\n",
    "- `text` is student-written texts from FeedBack prize 3 competition."
   ]
  },
  {
   "cell_type": "code",
   "execution_count": 8,
   "metadata": {},
   "outputs": [
    {
     "name": "stdout",
     "output_type": "stream",
     "text": [
      "Train dataframe has shape: (6220, 3)\n",
      "----------------------------------------------------------------------------------------------------\n"
     ]
    },
    {
     "data": {
      "text/html": [
       "<div>\n",
       "<style scoped>\n",
       "    .dataframe tbody tr th:only-of-type {\n",
       "        vertical-align: middle;\n",
       "    }\n",
       "\n",
       "    .dataframe tbody tr th {\n",
       "        vertical-align: top;\n",
       "    }\n",
       "\n",
       "    .dataframe thead th {\n",
       "        text-align: right;\n",
       "    }\n",
       "</style>\n",
       "<table border=\"1\" class=\"dataframe\">\n",
       "  <thead>\n",
       "    <tr style=\"text-align: right;\">\n",
       "      <th></th>\n",
       "      <th>id</th>\n",
       "      <th>text</th>\n",
       "      <th>generated</th>\n",
       "    </tr>\n",
       "  </thead>\n",
       "  <tbody>\n",
       "    <tr>\n",
       "      <th>0</th>\n",
       "      <td>0059830c</td>\n",
       "      <td>Cars. Cars have been around since they became ...</td>\n",
       "      <td>0</td>\n",
       "    </tr>\n",
       "    <tr>\n",
       "      <th>1</th>\n",
       "      <td>005db917</td>\n",
       "      <td>Transportation is a large necessity in most co...</td>\n",
       "      <td>0</td>\n",
       "    </tr>\n",
       "    <tr>\n",
       "      <th>2</th>\n",
       "      <td>008f63e3</td>\n",
       "      <td>\"America's love affair with it's vehicles seem...</td>\n",
       "      <td>0</td>\n",
       "    </tr>\n",
       "    <tr>\n",
       "      <th>3</th>\n",
       "      <td>00940276</td>\n",
       "      <td>How often do you ride in a car? Do you drive a...</td>\n",
       "      <td>0</td>\n",
       "    </tr>\n",
       "    <tr>\n",
       "      <th>4</th>\n",
       "      <td>00c39458</td>\n",
       "      <td>Cars are a wonderful thing. They are perhaps o...</td>\n",
       "      <td>0</td>\n",
       "    </tr>\n",
       "  </tbody>\n",
       "</table>\n",
       "</div>"
      ],
      "text/plain": [
       "         id                                               text  generated\n",
       "0  0059830c  Cars. Cars have been around since they became ...          0\n",
       "1  005db917  Transportation is a large necessity in most co...          0\n",
       "2  008f63e3  \"America's love affair with it's vehicles seem...          0\n",
       "3  00940276  How often do you ride in a car? Do you drive a...          0\n",
       "4  00c39458  Cars are a wonderful thing. They are perhaps o...          0"
      ]
     },
     "execution_count": 8,
     "metadata": {},
     "output_type": "execute_result"
    }
   ],
   "source": [
    "external_df1 = external_df[[\"id\", \"source_text\"]]\n",
    "external_df1.columns = [\"id\", \"text\"]\n",
    "external_df1['text'] = external_df['text'].str.replace('\\n', '')\n",
    "external_df1[\"generated\"] = 1\n",
    "external_df2 = external_df[[\"id\", \"text\"]]\n",
    "external_df2[\"generated\"] = 0\n",
    "\n",
    "train_df.drop(columns=[\"prompt_id\"],inplace=True)\n",
    "train_df = pd.concat([train_df, external_df1, external_df2])\n",
    "train_df.reset_index(inplace=True, drop=True)\n",
    "print(f\"Train dataframe has shape: {train_df.shape}\"), sep()\n",
    "train_df.head()"
   ]
  },
  {
   "cell_type": "markdown",
   "metadata": {
    "papermill": {
     "duration": 0.008293,
     "end_time": "2022-08-31T07:03:04.40102",
     "exception": false,
     "start_time": "2022-08-31T07:03:04.392727",
     "status": "completed"
    },
    "tags": []
   },
   "source": [
    "# <b><span style='color:#F1A424'>|</span> Validation</b><a class='anchor' id='validation'></a> [↑](#top) \n",
    "\n",
    "***\n",
    "\n",
    "We will use a `StratifiedKFold` partition, stratifying by `generated`."
   ]
  },
  {
   "cell_type": "code",
   "execution_count": 9,
   "metadata": {
    "papermill": {
     "duration": 0.148391,
     "end_time": "2022-08-31T07:03:04.558882",
     "exception": false,
     "start_time": "2022-08-31T07:03:04.410491",
     "status": "completed"
    },
    "tags": []
   },
   "outputs": [
    {
     "name": "stdout",
     "output_type": "stream",
     "text": [
      "fold  generated\n",
      "0.0   0            760\n",
      "      1            484\n",
      "1.0   0            759\n",
      "      1            485\n",
      "2.0   0            759\n",
      "      1            485\n",
      "3.0   0            759\n",
      "      1            485\n",
      "4.0   0            759\n",
      "      1            485\n",
      "Name: count, dtype: int64\n"
     ]
    },
    {
     "data": {
      "text/html": [
       "<div>\n",
       "<style scoped>\n",
       "    .dataframe tbody tr th:only-of-type {\n",
       "        vertical-align: middle;\n",
       "    }\n",
       "\n",
       "    .dataframe tbody tr th {\n",
       "        vertical-align: top;\n",
       "    }\n",
       "\n",
       "    .dataframe thead th {\n",
       "        text-align: right;\n",
       "    }\n",
       "</style>\n",
       "<table border=\"1\" class=\"dataframe\">\n",
       "  <thead>\n",
       "    <tr style=\"text-align: right;\">\n",
       "      <th></th>\n",
       "      <th>id</th>\n",
       "      <th>text</th>\n",
       "      <th>generated</th>\n",
       "      <th>fold</th>\n",
       "    </tr>\n",
       "  </thead>\n",
       "  <tbody>\n",
       "    <tr>\n",
       "      <th>0</th>\n",
       "      <td>0059830c</td>\n",
       "      <td>Cars. Cars have been around since they became ...</td>\n",
       "      <td>0</td>\n",
       "      <td>0.0</td>\n",
       "    </tr>\n",
       "    <tr>\n",
       "      <th>1</th>\n",
       "      <td>005db917</td>\n",
       "      <td>Transportation is a large necessity in most co...</td>\n",
       "      <td>0</td>\n",
       "      <td>0.0</td>\n",
       "    </tr>\n",
       "    <tr>\n",
       "      <th>2</th>\n",
       "      <td>008f63e3</td>\n",
       "      <td>\"America's love affair with it's vehicles seem...</td>\n",
       "      <td>0</td>\n",
       "      <td>0.0</td>\n",
       "    </tr>\n",
       "    <tr>\n",
       "      <th>3</th>\n",
       "      <td>00940276</td>\n",
       "      <td>How often do you ride in a car? Do you drive a...</td>\n",
       "      <td>0</td>\n",
       "      <td>0.0</td>\n",
       "    </tr>\n",
       "    <tr>\n",
       "      <th>4</th>\n",
       "      <td>00c39458</td>\n",
       "      <td>Cars are a wonderful thing. They are perhaps o...</td>\n",
       "      <td>0</td>\n",
       "      <td>0.0</td>\n",
       "    </tr>\n",
       "  </tbody>\n",
       "</table>\n",
       "</div>"
      ],
      "text/plain": [
       "         id                                               text  generated  fold\n",
       "0  0059830c  Cars. Cars have been around since they became ...          0   0.0\n",
       "1  005db917  Transportation is a large necessity in most co...          0   0.0\n",
       "2  008f63e3  \"America's love affair with it's vehicles seem...          0   0.0\n",
       "3  00940276  How often do you ride in a car? Do you drive a...          0   0.0\n",
       "4  00c39458  Cars are a wonderful thing. They are perhaps o...          0   0.0"
      ]
     },
     "execution_count": 9,
     "metadata": {},
     "output_type": "execute_result"
    }
   ],
   "source": [
    "from sklearn.model_selection import StratifiedKFold\n",
    "\n",
    "skf = StratifiedKFold(n_splits=5)\n",
    "X = train_df.loc[:, train_df.columns != \"generated\"]\n",
    "y = train_df.loc[:, train_df.columns == \"generated\"]\n",
    "\n",
    "for i, (train_index, valid_index) in enumerate(skf.split(X, y)):\n",
    "    train_df.loc[valid_index, \"fold\"] = i\n",
    "    \n",
    "print(train_df.groupby(\"fold\")[\"generated\"].value_counts())\n",
    "train_df.head()"
   ]
  },
  {
   "cell_type": "markdown",
   "metadata": {
    "papermill": {
     "duration": 0.007561,
     "end_time": "2022-08-31T07:03:04.604916",
     "exception": false,
     "start_time": "2022-08-31T07:03:04.597355",
     "status": "completed"
    },
    "tags": []
   },
   "source": [
    "# <b><span style='color:#F1A424'>|</span> Tokenizer</b><a class='anchor' id='tokenizer'></a> [↑](#top) \n",
    "\n",
    "***"
   ]
  },
  {
   "cell_type": "code",
   "execution_count": 10,
   "metadata": {
    "papermill": {
     "duration": 7.351568,
     "end_time": "2022-08-31T07:03:11.964298",
     "exception": false,
     "start_time": "2022-08-31T07:03:04.61273",
     "status": "completed"
    },
    "tags": []
   },
   "outputs": [
    {
     "name": "stdout",
     "output_type": "stream",
     "text": [
      "XLMRobertaTokenizerFast(name_or_path='bettertextapp/gpt2-large-detector-de-v1', vocab_size=250002, model_max_length=512, is_fast=True, padding_side='right', truncation_side='right', special_tokens={'bos_token': '<s>', 'eos_token': '</s>', 'unk_token': '<unk>', 'sep_token': '</s>', 'pad_token': '<pad>', 'cls_token': '<s>', 'mask_token': '<mask>', 'additional_special_tokens': ['<null>']}, clean_up_tokenization_spaces=True),  added_tokens_decoder={\n",
      "\t0: AddedToken(\"<s>\", rstrip=False, lstrip=False, single_word=False, normalized=False, special=True),\n",
      "\t1: AddedToken(\"<pad>\", rstrip=False, lstrip=False, single_word=False, normalized=False, special=True),\n",
      "\t2: AddedToken(\"</s>\", rstrip=False, lstrip=False, single_word=False, normalized=False, special=True),\n",
      "\t3: AddedToken(\"<unk>\", rstrip=False, lstrip=False, single_word=False, normalized=False, special=True),\n",
      "\t250001: AddedToken(\"<mask>\", rstrip=False, lstrip=True, single_word=False, normalized=False, special=True),\n",
      "\t250002: AddedToken(\"<null>\", rstrip=False, lstrip=False, single_word=False, normalized=False, special=True),\n",
      "}\n"
     ]
    }
   ],
   "source": [
    "tokenizer = AutoTokenizer.from_pretrained(config.MODEL)\n",
    "tokenizer.save_pretrained(paths.OUTPUT_DIR + '/tokenizer/')\n",
    "print(tokenizer)"
   ]
  },
  {
   "cell_type": "markdown",
   "metadata": {
    "papermill": {
     "duration": 0.008127,
     "end_time": "2022-08-31T07:03:11.985369",
     "exception": false,
     "start_time": "2022-08-31T07:03:11.977242",
     "status": "completed"
    },
    "tags": []
   },
   "source": [
    "# <b><span style='color:#F1A424'>|</span> Dataset</b><a class='anchor' id='dataset'></a> [↑](#top) \n",
    "\n",
    "***\n",
    "\n",
    "    \n",
    "We need to get the `max_len` from our `tokenizer`. We create a `tqdm` iterator and for each text we extract the tokenized length. Then we get the maximum value and we add 3 for the special tokens `CLS`, `SEP`, `SEP`.\n",
    "\n",
    "- [Hugging Face Padding and Truncation](https://huggingface.co/docs/transformers/pad_truncation): check truncation to `max_length` or `True` (batch max length)."
   ]
  },
  {
   "cell_type": "code",
   "execution_count": 11,
   "metadata": {
    "papermill": {
     "duration": 5.893032,
     "end_time": "2022-08-31T07:03:17.886504",
     "exception": false,
     "start_time": "2022-08-31T07:03:11.993472",
     "status": "completed"
    },
    "tags": []
   },
   "outputs": [
    {
     "data": {
      "application/vnd.jupyter.widget-view+json": {
       "model_id": "2096f55ee27e426e8ed28b3108d833a7",
       "version_major": 2,
       "version_minor": 0
      },
      "text/plain": [
       "  0%|          | 0/6220 [00:00<?, ?it/s]"
      ]
     },
     "metadata": {},
     "output_type": "display_data"
    },
    {
     "name": "stderr",
     "output_type": "stream",
     "text": [
      "Token indices sequence length is longer than the specified maximum sequence length for this model (786 > 512). Running this sequence through the model will result in indexing errors\n",
      "max_len: 512\n"
     ]
    },
    {
     "data": {
      "image/png": "[encoded data removed]",
      "text/plain": [
       "<Figure size 640x480 with 1 Axes>"
      ]
     },
     "metadata": {},
     "output_type": "display_data"
    }
   ],
   "source": [
    "import matplotlib.pyplot as plt\n",
    "\n",
    "lengths = []\n",
    "tqdm_loader = tqdm(train_df['text'].fillna(\"\").values, total=len(train_df))\n",
    "for text in tqdm_loader:\n",
    "    length = len(tokenizer(text, add_special_tokens=False)['input_ids'])\n",
    "    lengths.append(length)\n",
    "\n",
    "# config.MAX_LEN = max(lengths) + 3 # cls & sep & sep\n",
    "LOGGER.info(f\"max_len: {config.MAX_LEN}\")\n",
    "plt.hist(lengths, bins=25)\n",
    "plt.xlabel('Token Length')  # x 레이블 추가\n",
    "plt.ylabel('Frequency')     # y 레이블 추가\n",
    "plt.show()"
   ]
  },
  {
   "cell_type": "code",
   "execution_count": 12,
   "metadata": {
    "papermill": {
     "duration": 0.020447,
     "end_time": "2022-08-31T07:03:17.916566",
     "exception": false,
     "start_time": "2022-08-31T07:03:17.896119",
     "status": "completed"
    },
    "tags": []
   },
   "outputs": [],
   "source": [
    "def prepare_input(cfg, text, tokenizer):\n",
    "    \"\"\"\n",
    "    This function tokenizes the input text with the configured padding and truncation. Then,\n",
    "    returns the input dictionary, which contains the following keys: \"input_ids\",\n",
    "    \"token_type_ids\" and \"attention_mask\". Each value is a torch.tensor.\n",
    "    :param cfg: configuration class with a TOKENIZER attribute.\n",
    "    :param text: a numpy array where each value is a text as string.\n",
    "    :return inputs: python dictionary where values are torch tensors.\n",
    "    \"\"\"\n",
    "    inputs = tokenizer.encode_plus(\n",
    "        text, \n",
    "        return_tensors=None, \n",
    "        add_special_tokens=True, \n",
    "        max_length=cfg.MAX_LEN,\n",
    "        padding='max_length', # TODO: check padding to max sequence in batch\n",
    "        truncation=True\n",
    "    )\n",
    "    for k, v in inputs.items():\n",
    "        inputs[k] = torch.tensor(v, dtype=torch.long) # TODO: check dtypes\n",
    "    return inputs\n",
    "\n",
    "\n",
    "def collate(inputs):\n",
    "    \"\"\"\n",
    "    It truncates the inputs to the maximum sequence length in the batch. \n",
    "    \"\"\"\n",
    "    mask_len = int(inputs[\"attention_mask\"].sum(axis=1).max()) # Get batch's max sequence length\n",
    "    for k, v in inputs.items():\n",
    "        inputs[k] = inputs[k][:,:mask_len]\n",
    "    return inputs\n",
    "\n",
    "\n",
    "class CustomDataset(Dataset):\n",
    "    def __init__(self, cfg, df, tokenizer):\n",
    "        self.cfg = cfg\n",
    "        self.texts = df['text'].values\n",
    "        self.labels = df['generated'].values\n",
    "        self.tokenizer = tokenizer\n",
    "        self.text_ids = df['id'].values\n",
    "\n",
    "    def __len__(self):\n",
    "        return len(self.texts)\n",
    "\n",
    "    def __getitem__(self, item):\n",
    "        output = {}\n",
    "        output[\"inputs\"] = prepare_input(self.cfg, self.texts[item], self.tokenizer)\n",
    "        output[\"labels\"] = torch.tensor(self.labels[item], dtype=torch.float) # TODO: check dtypes\n",
    "        output[\"ids\"] = self.text_ids[item]\n",
    "        return output"
   ]
  },
  {
   "cell_type": "markdown",
   "metadata": {},
   "source": [
    "One sample from the dataset should look as following:\n",
    "```python\n",
    "{\n",
    "\t'inputs': {\n",
    "\t\t'input_ids': tensor([1, 279, 883, ..., 0, 0]),\n",
    "\t\t'token_type_ids': tensor([0, 0, 0, ..., 0, 0]),\n",
    "\t\t'attention_mask': tensor([1, 1, 1, ..., 0, 0])\n",
    "\t},\n",
    "\t'label': tensor([0.0]),\n",
    "\t'ids': '000e8c3c7ddb'\n",
    "}\n",
    "```\n",
    "You can check it by running the cell below."
   ]
  },
  {
   "cell_type": "code",
   "execution_count": 13,
   "metadata": {
    "_kg_hide-input": true,
    "_kg_hide-output": true,
    "scrolled": true
   },
   "outputs": [],
   "source": [
    "if config.DEBUG:\n",
    "    # ======== SPLIT ==========\n",
    "    fold = 0\n",
    "    train_folds = train_df[train_df['fold'] != fold].reset_index(drop=True)\n",
    "    valid_folds = train_df[train_df['fold'] == fold].reset_index(drop=True)\n",
    "    valid_labels = valid_folds['generated'].values\n",
    "\n",
    "    # ======== DATASETS ==========\n",
    "    train_dataset = CustomDataset(config, train_folds, tokenizer)\n",
    "    valid_dataset = CustomDataset(config, valid_folds, tokenizer)\n",
    "\n",
    "    # ======== DATALOADERS ==========\n",
    "    train_loader = DataLoader(train_dataset,\n",
    "                              batch_size=config.BATCH_SIZE_TRAIN, # TODO: split into train and valid\n",
    "                              shuffle=True,\n",
    "                              num_workers=config.NUM_WORKERS, pin_memory=True, drop_last=True)\n",
    "    valid_loader = DataLoader(valid_dataset,\n",
    "                              batch_size=config.BATCH_SIZE_VALID,\n",
    "                              shuffle=False,\n",
    "                              num_workers=config.NUM_WORKERS, pin_memory=True, drop_last=False)\n",
    "\n",
    "    # === Let's check one sample ===\n",
    "    sample = train_dataset[0]\n",
    "    print(f\"Encoding keys: {sample.keys()} \\n\") \n",
    "    print(sample)"
   ]
  },
  {
   "cell_type": "markdown",
   "metadata": {
    "papermill": {
     "duration": 0.008073,
     "end_time": "2022-08-31T07:03:17.933189",
     "exception": false,
     "start_time": "2022-08-31T07:03:17.925116",
     "status": "completed"
    },
    "tags": []
   },
   "source": [
    "# <b><span style='color:#F1A424'>|</span> Model</b><a class='anchor' id='model'></a> [↑](#top) \n",
    "\n",
    "***"
   ]
  },
  {
   "cell_type": "code",
   "execution_count": 14,
   "metadata": {
    "papermill": {
     "duration": 0.033105,
     "end_time": "2022-08-31T07:03:17.97447",
     "exception": false,
     "start_time": "2022-08-31T07:03:17.941365",
     "status": "completed"
    },
    "tags": []
   },
   "outputs": [],
   "source": [
    "class MeanPooling(nn.Module):\n",
    "    def __init__(self):\n",
    "        super(MeanPooling, self).__init__()\n",
    "        \n",
    "    def forward(self, last_hidden_state, attention_mask):\n",
    "        input_mask_expanded = attention_mask.unsqueeze(-1).expand(last_hidden_state.size()).float()\n",
    "        sum_embeddings = torch.sum(last_hidden_state * input_mask_expanded, 1)\n",
    "        sum_mask = input_mask_expanded.sum(1)\n",
    "        sum_mask = torch.clamp(sum_mask, min=1e-9)\n",
    "        mean_embeddings = sum_embeddings / sum_mask\n",
    "        return mean_embeddings\n",
    "    \n",
    "\n",
    "class CustomModel(nn.Module):\n",
    "    def __init__(self, cfg, config_path=None, pretrained=False):\n",
    "        super().__init__()\n",
    "        self.cfg = cfg\n",
    "        self.dropout = 0.2\n",
    "        # Load config by inferencing it from the model name.\n",
    "        if config_path is None: \n",
    "            self.config = AutoConfig.from_pretrained(cfg.MODEL, output_hidden_states=True)\n",
    "            self.config.hidden_dropout = 0.\n",
    "            self.config.hidden_dropout_prob = 0.\n",
    "            self.config.attention_dropout = 0.\n",
    "            self.config.attention_probs_dropout_prob = 0.\n",
    "        # Load config from a file.\n",
    "        else:\n",
    "            self.config = torch.load(config_path)\n",
    "        \n",
    "        if pretrained:\n",
    "            self.model = AutoModel.from_pretrained(cfg.MODEL, config=self.config)\n",
    "        else:\n",
    "            self.model = AutoModel(self.config)\n",
    "        \n",
    "        if self.cfg.GRADIENT_CHECKPOINTING:\n",
    "            self.model.gradient_checkpointing_enable()\n",
    "          \n",
    "        # Add MeanPooling and Linear head at the end to transform the Model into a RegressionModel\n",
    "        self.pool = MeanPooling() # MetaFormer에서 사용된 Pooling 아이디어에서 착안.\n",
    "        self.head = nn.Sequential(\n",
    "            nn.Linear(self.config.hidden_size, 64),\n",
    "            nn.BatchNorm1d(64),\n",
    "            nn.Mish(),\n",
    "            nn.Dropout(self.dropout),\n",
    "            nn.Linear(64, 16),\n",
    "            nn.BatchNorm1d(16),\n",
    "            nn.Mish(),\n",
    "            nn.Dropout(self.dropout),\n",
    "            nn.Linear(16, 1)\n",
    "        )\n",
    "        self._init_weights(self.head)\n",
    "        \n",
    "    def _init_weights(self, module):\n",
    "        \"\"\"\n",
    "        This method initializes weights for different types of layers. The type of layers \n",
    "        supported are nn.Linear, nn.Embedding and nn.LayerNorm.\n",
    "        \"\"\"\n",
    "        if isinstance(module, nn.Linear):\n",
    "            module.weight.data.normal_(mean=0.0, std=self.config.initializer_range)\n",
    "            if module.bias is not None:\n",
    "                module.bias.data.zero_()\n",
    "        elif isinstance(module, nn.Embedding):\n",
    "            module.weight.data.normal_(mean=0.0, std=self.config.initializer_range)\n",
    "            if module.padding_idx is not None:\n",
    "                module.weight.data[module.padding_idx].zero_()\n",
    "        elif isinstance(module, nn.LayerNorm):\n",
    "            module.bias.data.zero_()\n",
    "            module.weight.data.fill_(1.0)\n",
    "        \n",
    "    def feature(self, inputs):\n",
    "        \"\"\"\n",
    "        This method makes a forward pass through the model, get the last hidden state (embedding)\n",
    "        and pass it through the MeanPooling layer.\n",
    "        \"\"\"\n",
    "        outputs = self.model(**inputs)\n",
    "        last_hidden_states = outputs[0]\n",
    "        feature = self.pool(last_hidden_states, inputs['attention_mask'])\n",
    "        return feature\n",
    "\n",
    "    def forward(self, inputs):\n",
    "        \"\"\"\n",
    "        This method makes a forward pass through the model, the MeanPooling layer and finally\n",
    "        then through the Linear layer to get a regression value.\n",
    "        \"\"\"\n",
    "        feature = self.feature(inputs)\n",
    "        output = self.head(feature)\n",
    "        return output"
   ]
  },
  {
   "cell_type": "markdown",
   "metadata": {
    "papermill": {
     "duration": 0.008452,
     "end_time": "2022-08-31T07:03:18.041557",
     "exception": false,
     "start_time": "2022-08-31T07:03:18.033105",
     "status": "completed"
    },
    "tags": []
   },
   "source": [
    "# <b><span style='color:#F1A424'>|</span> Train and Validation Functions</b><a class='anchor' id='functions'></a> [↑](#top) \n",
    "\n",
    "***\n",
    "    \n",
    "- [torch.cuda.amp.GradScaler](https://pytorch.org/docs/stable/amp.html#torch.cuda.amp.GradScaler): This class helps writing compute efficient training loops, so we dont get OOM errors. Also, one common error in any large deep learning model is the problem of underflowing gradients (i.e. your gradients are too small to take into account). `float16` tensors often don't take into account extremely small variations. To prevent this we can scale our gradients by some factor so that they aren't flushed to zero. Not to be confused with vanishing gradients, this gradients still might contribute to the learning process however are skipped because of computational limits.\n",
    "- [torch.autocast](https://pytorch.org/docs/stable/amp.html#torch.autocast)"
   ]
  },
  {
   "cell_type": "code",
   "execution_count": 15,
   "metadata": {
    "papermill": {
     "duration": 0.030759,
     "end_time": "2022-08-31T07:03:18.08056",
     "exception": false,
     "start_time": "2022-08-31T07:03:18.049801",
     "status": "completed"
    },
    "tags": []
   },
   "outputs": [],
   "source": [
    "class AverageMeter(object):\n",
    "    \"\"\"Computes and stores the average and current value\"\"\"\n",
    "    def __init__(self):\n",
    "        self.reset()\n",
    "\n",
    "    def reset(self):\n",
    "        self.val = 0\n",
    "        self.avg = 0\n",
    "        self.sum = 0\n",
    "        self.count = 0\n",
    "\n",
    "    def update(self, val, n=1):\n",
    "        self.val = val\n",
    "        self.sum += val * n\n",
    "        self.count += n\n",
    "        self.avg = self.sum / self.count\n",
    "\n",
    "\n",
    "def asMinutes(s):\n",
    "    m = math.floor(s / 60)\n",
    "    s -= m * 60\n",
    "    return '%dm %ds' % (m, s)\n",
    "\n",
    "\n",
    "def timeSince(since, percent):\n",
    "    now = time.time()\n",
    "    s = now - since\n",
    "    es = s / (percent)\n",
    "    rs = es - s\n",
    "    return '%s (remain %s)' % (asMinutes(s), asMinutes(rs))\n",
    "\n",
    "\n",
    "def train_epoch(train_loader, model, criterion, optimizer, epoch, scheduler, device):\n",
    "    \"\"\"One epoch training pass.\"\"\"\n",
    "    model.train() # set model in train mode\n",
    "    scaler = torch.cuda.amp.GradScaler(enabled=config.APEX) # Automatic Mixed Precision tries to match each op to its appropriate datatype.\n",
    "    losses = AverageMeter() # initiate AverageMeter to track the loss.\n",
    "    start = end = time.time() # track the execution time.\n",
    "    global_step = 0\n",
    "    \n",
    "    # ========== ITERATE OVER TRAIN BATCHES ============\n",
    "    with tqdm(train_loader, unit=\"train_batch\", desc='Train') as tqdm_train_loader:\n",
    "        for step, batch in enumerate(tqdm_train_loader):\n",
    "            inputs = batch.pop(\"inputs\")\n",
    "            labels = batch.pop(\"labels\")\n",
    "            inputs = collate(inputs) # collate inputs\n",
    "            for k, v in inputs.items(): # send each tensor value to `device`\n",
    "                inputs[k] = v.to(device)\n",
    "            labels = labels.to(device) # send labels to `device`\n",
    "            batch_size = labels.size(0)\n",
    "            with torch.cuda.amp.autocast(enabled=config.APEX):\n",
    "                y_preds = model(inputs) # forward propagation pass\n",
    "                loss = criterion(y_preds, labels.unsqueeze(1)) # get loss\n",
    "            if config.GRADIENT_ACCUMULATION_STEPS > 1:\n",
    "                loss = loss / config.GRADIENT_ACCUMULATION_STEPS\n",
    "            losses.update(loss.item(), batch_size) # update loss function tracking\n",
    "            scaler.scale(loss).backward() # backward propagation pass\n",
    "            grad_norm = torch.nn.utils.clip_grad_norm_(model.parameters(), config.MAX_GRAD_NORM)\n",
    "\n",
    "            if (step + 1) % config.GRADIENT_ACCUMULATION_STEPS == 0:\n",
    "                scaler.step(optimizer) # update optimizer parameters\n",
    "                scaler.update()\n",
    "                optimizer.zero_grad() # zero out the gradients\n",
    "                global_step += 1\n",
    "                if config.BATCH_SCHEDULER:\n",
    "                    scheduler.step() # update learning rate\n",
    "            end = time.time() # get finish time\n",
    "\n",
    "            # ========== LOG INFO ==========\n",
    "            if step % config.PRINT_FREQ == 0 or step == (len(train_loader)-1):\n",
    "                print('Epoch: [{0}][{1}/{2}] '\n",
    "                      'Elapsed {remain:s} '\n",
    "                      'Loss: {loss.avg:.4f} '\n",
    "                      'Grad: {grad_norm:.4f}  '\n",
    "                      'LR: {lr:.8f}  '\n",
    "                      .format(epoch+1, step, len(train_loader), \n",
    "                              remain=timeSince(start, float(step+1)/len(train_loader)),\n",
    "                              loss=losses,\n",
    "                              grad_norm=grad_norm,\n",
    "                              lr=scheduler.get_lr()[0]))\n",
    "            if config.WANDB:\n",
    "                wandb.log({f\"[fold_{fold}] train loss\": losses.val,\n",
    "                           f\"[fold_{fold}] lr\": scheduler.get_lr()[0]})\n",
    "\n",
    "    return losses.avg\n",
    "\n",
    "\n",
    "def valid_epoch(valid_loader, model, criterion, device):\n",
    "    model.eval() # set model in evaluation mode\n",
    "    losses = AverageMeter() # initiate AverageMeter for tracking the loss.\n",
    "    prediction_dict = {}\n",
    "    preds = []\n",
    "    start = end = time.time() # track the execution time.\n",
    "    with tqdm(valid_loader, unit=\"valid_batch\", desc='Validation') as tqdm_valid_loader:\n",
    "        for step, batch in enumerate(tqdm_valid_loader):\n",
    "            inputs = batch.pop(\"inputs\")\n",
    "            labels = batch.pop(\"labels\")\n",
    "            ids = batch.pop(\"ids\")\n",
    "            inputs = collate(inputs) # collate inputs\n",
    "            for k, v in inputs.items():\n",
    "                inputs[k] = v.to(device) # send inputs to device\n",
    "            labels = labels.to(device)\n",
    "            batch_size = labels.size(0)\n",
    "            with torch.no_grad():\n",
    "                y_preds = model(inputs) # forward propagation pass\n",
    "                loss = criterion(y_preds, labels.unsqueeze(1)) # get loss\n",
    "            if config.GRADIENT_ACCUMULATION_STEPS > 1:\n",
    "                loss = loss / config.GRADIENT_ACCUMULATION_STEPS\n",
    "            losses.update(loss.item(), batch_size) # update loss function tracking\n",
    "            preds.append(y_preds.to('cpu').numpy()) # save predictions\n",
    "            end = time.time() # get finish time\n",
    "\n",
    "            # ========== LOG INFO ==========\n",
    "            if step % config.PRINT_FREQ == 0 or step == (len(valid_loader)-1):\n",
    "                print('EVAL: [{0}/{1}] '\n",
    "                      'Elapsed {remain:s} '\n",
    "                      'Loss: {loss.avg:.4f} '\n",
    "                      .format(step, len(valid_loader),\n",
    "                              loss=losses,\n",
    "                              remain=timeSince(start, float(step+1)/len(valid_loader))))\n",
    "            if config.WANDB:\n",
    "                wandb.log({f\"[fold_{fold}] val loss\": losses.val})\n",
    "                \n",
    "    prediction_dict[\"predictions\"] = np.concatenate(preds) # np.array() of shape (fold_size, target_cols)\n",
    "    prediction_dict[\"ids\"] = ids\n",
    "    return losses.avg, prediction_dict"
   ]
  },
  {
   "cell_type": "markdown",
   "metadata": {
    "papermill": {
     "duration": 0.0081,
     "end_time": "2022-08-31T07:03:18.100232",
     "exception": false,
     "start_time": "2022-08-31T07:03:18.092132",
     "status": "completed"
    },
    "tags": []
   },
   "source": [
    "# <b><span style='color:#F1A424'>|</span> Train Loop</b><a class='anchor' id='train_loop'></a> [↑](#top) \n",
    "\n",
    "***"
   ]
  },
  {
   "cell_type": "code",
   "execution_count": 16,
   "metadata": {
    "papermill": {
     "duration": 0.033332,
     "end_time": "2022-08-31T07:03:18.141812",
     "exception": false,
     "start_time": "2022-08-31T07:03:18.10848",
     "status": "completed"
    },
    "tags": []
   },
   "outputs": [],
   "source": [
    "def train_loop(folds, fold):\n",
    "    \n",
    "    LOGGER.info(f\"========== Fold: {fold} training ==========\")\n",
    "\n",
    "    # ======== SPLIT ==========\n",
    "    train_folds = folds[folds['fold'] != fold].reset_index(drop=True)\n",
    "    valid_folds = folds[folds['fold'] == fold].reset_index(drop=True)\n",
    "\n",
    "    valid_labels = valid_folds['generated'].values\n",
    "\n",
    "    # ======== DATASETS ==========\n",
    "    train_dataset = CustomDataset(config, train_folds, tokenizer)\n",
    "    valid_dataset = CustomDataset(config, valid_folds, tokenizer)\n",
    "    \n",
    "    # ======== DATALOADERS ==========\n",
    "    train_loader = DataLoader(train_dataset,\n",
    "                              batch_size=config.BATCH_SIZE_TRAIN, # TODO: split into train and valid\n",
    "                              shuffle=True,\n",
    "                              pin_memory=True, drop_last=True)\n",
    "    valid_loader = DataLoader(valid_dataset,\n",
    "                              batch_size=config.BATCH_SIZE_VALID,\n",
    "                              shuffle=False,\n",
    "                              pin_memory=True, drop_last=False)\n",
    "    \n",
    "    # ======== MODEL ==========\n",
    "    model = CustomModel(config, config_path=None, pretrained=True)\n",
    "    torch.save(model.config, paths.OUTPUT_DIR + '/config.pth')\n",
    "    model.to(device)\n",
    "\n",
    "    optimizer_parameters = get_optimizer_params(model,\n",
    "                                                encoder_lr=config.ENCODER_LR, \n",
    "                                                decoder_lr=config.DECODER_LR,\n",
    "                                                weight_decay=config.WEIGHT_DECAY)\n",
    "    optimizer = AdamW(optimizer_parameters,\n",
    "                      lr=config.ENCODER_LR,\n",
    "                      eps=config.EPS,\n",
    "                      betas=config.BETAS)\n",
    "    \n",
    "    scheduler = OneCycleLR(\n",
    "        optimizer,\n",
    "        max_lr=1e-5,\n",
    "        epochs=config.EPOCHS,\n",
    "        steps_per_epoch=len(train_loader),\n",
    "        pct_start=0.1,\n",
    "        anneal_strategy=\"cos\",\n",
    "        final_div_factor=100,\n",
    "    )\n",
    "\n",
    "    # ======= LOSS ==========\n",
    "    criterion = nn.BCEWithLogitsLoss()\n",
    "    \n",
    "    best_score = -np.inf\n",
    "    # ====== ITERATE EPOCHS ========\n",
    "    for epoch in range(config.EPOCHS):\n",
    "\n",
    "        start_time = time.time()\n",
    "\n",
    "        # ======= TRAIN ==========\n",
    "        avg_loss = train_epoch(train_loader, model, criterion, optimizer, epoch, scheduler, device)\n",
    "\n",
    "        # ======= EVALUATION ==========\n",
    "        avg_val_loss, prediction_dict = valid_epoch(valid_loader, model, criterion, device)\n",
    "        predictions = prediction_dict[\"predictions\"]\n",
    "        # ======= SCORING ==========\n",
    "        score = get_score(valid_labels, sigmoid(predictions))\n",
    "\n",
    "        elapsed = time.time() - start_time\n",
    "\n",
    "        LOGGER.info(f'Epoch {epoch+1} - avg_train_loss: {avg_loss:.4f}  avg_val_loss: {avg_val_loss:.4f}  time: {elapsed:.0f}s')\n",
    "        LOGGER.info(f'Epoch {epoch+1} - Score: {score:.4f}')\n",
    "        \n",
    "        if config.WANDB:\n",
    "            wandb.log({f\"[fold_{fold}] epoch\": epoch+1, \n",
    "                       f\"[fold_{fold}] avg_train_loss\": avg_loss, \n",
    "                       f\"[fold_{fold}] avg_val_loss\": avg_val_loss,\n",
    "                       f\"[fold_{fold}] score\": score})\n",
    "            \n",
    "        if score > best_score:\n",
    "            best_score = score\n",
    "            LOGGER.info(f'Epoch {epoch+1} - Save Best Score: {best_score:.4f} Model')\n",
    "            torch.save(model.state_dict(),\n",
    "                        paths.OUTPUT_DIR + f\"/{config.MODEL.replace('/', '_')}_fold_{fold}_best.pth\")\n",
    "            best_model_predictions = predictions\n",
    "\n",
    "    valid_folds[\"preds\"] = best_model_predictions\n",
    "\n",
    "    torch.cuda.empty_cache()\n",
    "    gc.collect()\n",
    "    \n",
    "    return valid_folds"
   ]
  },
  {
   "cell_type": "markdown",
   "metadata": {},
   "source": [
    "# <b><span style='color:#F1A424'>|</span> Train</b><a class='anchor' id='train'></a> [↑](#top) \n",
    "\n",
    "***"
   ]
  },
  {
   "cell_type": "code",
   "execution_count": 17,
   "metadata": {
    "papermill": {
     "duration": 11935.46951,
     "end_time": "2022-08-31T10:22:13.621316",
     "exception": false,
     "start_time": "2022-08-31T07:03:18.151806",
     "status": "completed"
    },
    "tags": []
   },
   "outputs": [
    {
     "name": "stderr",
     "output_type": "stream",
     "text": [
      "========== Fold: 0 training ==========\n",
      "Some weights of XLMRobertaModel were not initialized from the model checkpoint at bettertextapp/gpt2-large-detector-de-v1 and are newly initialized: ['roberta.pooler.dense.weight', 'roberta.pooler.dense.bias']\n",
      "You should probably TRAIN this model on a down-stream task to be able to use it for predictions and inference.\n"
     ]
    },
    {
     "data": {
      "application/vnd.jupyter.widget-view+json": {
       "model_id": "cd9c64c9894d48bc99033be501e9457b",
       "version_major": 2,
       "version_minor": 0
      },
      "text/plain": [
       "Train:   0%|          | 0/155 [00:00<?, ?train_batch/s]"
      ]
     },
     "metadata": {},
     "output_type": "display_data"
    },
    {
     "name": "stdout",
     "output_type": "stream",
     "text": [
      "Epoch: [1][0/155] Elapsed 0m 1s (remain 3m 17s) Loss: 0.8088 Grad: inf  LR: 0.00000040  \n",
      "Epoch: [1][20/155] Elapsed 0m 12s (remain 1m 19s) Loss: 0.7734 Grad: 225518.7969  LR: 0.00000208  \n",
      "Epoch: [1][40/155] Elapsed 0m 23s (remain 1m 5s) Loss: 0.7567 Grad: 117376.4062  LR: 0.00000574  \n",
      "Epoch: [1][60/155] Elapsed 0m 34s (remain 0m 53s) Loss: 0.7502 Grad: 349905.9375  LR: 0.00000906  \n",
      "Epoch: [1][80/155] Elapsed 0m 45s (remain 0m 41s) Loss: 0.7316 Grad: 110122.1953  LR: 0.00001000  \n",
      "Epoch: [1][100/155] Elapsed 0m 56s (remain 0m 30s) Loss: 0.6921 Grad: 64910.0234  LR: 0.00000997  \n",
      "Epoch: [1][120/155] Elapsed 1m 8s (remain 0m 19s) Loss: 0.6523 Grad: 56651.7266  LR: 0.00000990  \n",
      "Epoch: [1][140/155] Elapsed 1m 19s (remain 0m 7s) Loss: 0.6217 Grad: 38152.5859  LR: 0.00000979  \n",
      "Epoch: [1][154/155] Elapsed 1m 27s (remain 0m 0s) Loss: 0.6045 Grad: 31080.9336  LR: 0.00000969  \n"
     ]
    },
    {
     "data": {
      "application/vnd.jupyter.widget-view+json": {
       "model_id": "4a290f7d522c48958968fe821d125823",
       "version_major": 2,
       "version_minor": 0
      },
      "text/plain": [
       "Validation:   0%|          | 0/78 [00:00<?, ?valid_batch/s]"
      ]
     },
     "metadata": {},
     "output_type": "display_data"
    },
    {
     "name": "stdout",
     "output_type": "stream",
     "text": [
      "EVAL: [0/78] Elapsed 0m 0s (remain 0m 17s) Loss: 0.4537 \n",
      "EVAL: [20/78] Elapsed 0m 4s (remain 0m 11s) Loss: 0.4740 \n",
      "EVAL: [40/78] Elapsed 0m 8s (remain 0m 7s) Loss: 0.4888 \n",
      "EVAL: [60/78] Elapsed 0m 12s (remain 0m 3s) Loss: 0.4322 \n"
     ]
    },
    {
     "name": "stderr",
     "output_type": "stream",
     "text": [
      "Epoch 1 - avg_train_loss: 0.6045  avg_val_loss: 0.3887  time: 103s\n",
      "Epoch 1 - Score: 0.9945\n",
      "Epoch 1 - Save Best Score: 0.9945 Model\n"
     ]
    },
    {
     "name": "stdout",
     "output_type": "stream",
     "text": [
      "EVAL: [77/78] Elapsed 0m 15s (remain 0m 0s) Loss: 0.3887 \n"
     ]
    },
    {
     "data": {
      "application/vnd.jupyter.widget-view+json": {
       "model_id": "ba535ea9ff5546b9801bb13795ad8754",
       "version_major": 2,
       "version_minor": 0
      },
      "text/plain": [
       "Train:   0%|          | 0/155 [00:00<?, ?train_batch/s]"
      ]
     },
     "metadata": {},
     "output_type": "display_data"
    },
    {
     "name": "stdout",
     "output_type": "stream",
     "text": [
      "Epoch: [2][0/155] Elapsed 0m 0s (remain 1m 28s) Loss: 0.4842 Grad: 122549.4453  LR: 0.00000968  \n",
      "Epoch: [2][20/155] Elapsed 0m 11s (remain 1m 15s) Loss: 0.4503 Grad: 66963.7031  LR: 0.00000951  \n",
      "Epoch: [2][40/155] Elapsed 0m 23s (remain 1m 3s) Loss: 0.4401 Grad: 56319.5938  LR: 0.00000929  \n",
      "Epoch: [2][60/155] Elapsed 0m 34s (remain 0m 52s) Loss: 0.4391 Grad: 48011.4023  LR: 0.00000905  \n",
      "Epoch: [2][80/155] Elapsed 0m 45s (remain 0m 41s) Loss: 0.4347 Grad: 68653.9844  LR: 0.00000876  \n",
      "Epoch: [2][100/155] Elapsed 0m 56s (remain 0m 30s) Loss: 0.4314 Grad: 93508.2734  LR: 0.00000845  \n",
      "Epoch: [2][120/155] Elapsed 1m 7s (remain 0m 19s) Loss: 0.4291 Grad: 54695.6562  LR: 0.00000811  \n",
      "Epoch: [2][140/155] Elapsed 1m 19s (remain 0m 7s) Loss: 0.4277 Grad: 49031.1562  LR: 0.00000775  \n",
      "Epoch: [2][154/155] Elapsed 1m 26s (remain 0m 0s) Loss: 0.4260 Grad: 120828.8359  LR: 0.00000748  \n"
     ]
    },
    {
     "data": {
      "application/vnd.jupyter.widget-view+json": {
       "model_id": "8463709db80c41dea69db6b4e429077e",
       "version_major": 2,
       "version_minor": 0
      },
      "text/plain": [
       "Validation:   0%|          | 0/78 [00:00<?, ?valid_batch/s]"
      ]
     },
     "metadata": {},
     "output_type": "display_data"
    },
    {
     "name": "stdout",
     "output_type": "stream",
     "text": [
      "EVAL: [0/78] Elapsed 0m 0s (remain 0m 16s) Loss: 0.4589 \n",
      "EVAL: [20/78] Elapsed 0m 4s (remain 0m 11s) Loss: 0.4629 \n",
      "EVAL: [40/78] Elapsed 0m 8s (remain 0m 7s) Loss: 0.4707 \n",
      "EVAL: [60/78] Elapsed 0m 12s (remain 0m 3s) Loss: 0.4184 \n"
     ]
    },
    {
     "name": "stderr",
     "output_type": "stream",
     "text": [
      "Epoch 2 - avg_train_loss: 0.4260  avg_val_loss: 0.3772  time: 103s\n",
      "Epoch 2 - Score: 0.9967\n",
      "Epoch 2 - Save Best Score: 0.9967 Model\n"
     ]
    },
    {
     "name": "stdout",
     "output_type": "stream",
     "text": [
      "EVAL: [77/78] Elapsed 0m 15s (remain 0m 0s) Loss: 0.3772 \n"
     ]
    },
    {
     "data": {
      "application/vnd.jupyter.widget-view+json": {
       "model_id": "2c3489fe41724971817e828317047097",
       "version_major": 2,
       "version_minor": 0
      },
      "text/plain": [
       "Train:   0%|          | 0/155 [00:00<?, ?train_batch/s]"
      ]
     },
     "metadata": {},
     "output_type": "display_data"
    },
    {
     "name": "stdout",
     "output_type": "stream",
     "text": [
      "Epoch: [3][0/155] Elapsed 0m 0s (remain 1m 42s) Loss: 0.4282 Grad: 51969.2773  LR: 0.00000746  \n",
      "Epoch: [3][20/155] Elapsed 0m 11s (remain 1m 15s) Loss: 0.4126 Grad: 55040.0234  LR: 0.00000706  \n",
      "Epoch: [3][40/155] Elapsed 0m 23s (remain 1m 4s) Loss: 0.4149 Grad: 46969.2891  LR: 0.00000664  \n",
      "Epoch: [3][60/155] Elapsed 0m 34s (remain 0m 52s) Loss: 0.4149 Grad: 47473.3984  LR: 0.00000621  \n",
      "Epoch: [3][80/155] Elapsed 0m 45s (remain 0m 41s) Loss: 0.4133 Grad: 85126.5859  LR: 0.00000577  \n",
      "Epoch: [3][100/155] Elapsed 0m 56s (remain 0m 30s) Loss: 0.4145 Grad: 53554.4531  LR: 0.00000532  \n",
      "Epoch: [3][120/155] Elapsed 1m 7s (remain 0m 19s) Loss: 0.4123 Grad: 59747.1367  LR: 0.00000487  \n",
      "Epoch: [3][140/155] Elapsed 1m 19s (remain 0m 7s) Loss: 0.4116 Grad: 43450.1484  LR: 0.00000442  \n",
      "Epoch: [3][154/155] Elapsed 1m 27s (remain 0m 0s) Loss: 0.4109 Grad: 82514.9609  LR: 0.00000411  \n"
     ]
    },
    {
     "data": {
      "application/vnd.jupyter.widget-view+json": {
       "model_id": "f4e344c08c2746359a67f8023c21f896",
       "version_major": 2,
       "version_minor": 0
      },
      "text/plain": [
       "Validation:   0%|          | 0/78 [00:00<?, ?valid_batch/s]"
      ]
     },
     "metadata": {},
     "output_type": "display_data"
    },
    {
     "name": "stdout",
     "output_type": "stream",
     "text": [
      "EVAL: [0/78] Elapsed 0m 0s (remain 0m 16s) Loss: 0.4395 \n",
      "EVAL: [20/78] Elapsed 0m 4s (remain 0m 11s) Loss: 0.4418 \n",
      "EVAL: [40/78] Elapsed 0m 8s (remain 0m 7s) Loss: 0.4486 \n",
      "EVAL: [60/78] Elapsed 0m 12s (remain 0m 3s) Loss: 0.4054 \n"
     ]
    },
    {
     "name": "stderr",
     "output_type": "stream",
     "text": [
      "Epoch 3 - avg_train_loss: 0.4109  avg_val_loss: 0.3715  time: 103s\n",
      "Epoch 3 - Score: 0.9970\n",
      "Epoch 3 - Save Best Score: 0.9970 Model\n"
     ]
    },
    {
     "name": "stdout",
     "output_type": "stream",
     "text": [
      "EVAL: [77/78] Elapsed 0m 15s (remain 0m 0s) Loss: 0.3715 \n"
     ]
    },
    {
     "data": {
      "application/vnd.jupyter.widget-view+json": {
       "model_id": "38d716a512364849882ff64ebd4ebc7f",
       "version_major": 2,
       "version_minor": 0
      },
      "text/plain": [
       "Train:   0%|          | 0/155 [00:00<?, ?train_batch/s]"
      ]
     },
     "metadata": {},
     "output_type": "display_data"
    },
    {
     "name": "stdout",
     "output_type": "stream",
     "text": [
      "Epoch: [4][0/155] Elapsed 0m 0s (remain 1m 41s) Loss: 0.3631 Grad: 59451.0078  LR: 0.00000409  \n",
      "Epoch: [4][20/155] Elapsed 0m 11s (remain 1m 15s) Loss: 0.4107 Grad: 54040.7891  LR: 0.00000365  \n",
      "Epoch: [4][40/155] Elapsed 0m 23s (remain 1m 4s) Loss: 0.4103 Grad: 52038.3281  LR: 0.00000322  \n",
      "Epoch: [4][60/155] Elapsed 0m 34s (remain 0m 52s) Loss: 0.4100 Grad: 57789.5547  LR: 0.00000281  \n",
      "Epoch: [4][80/155] Elapsed 0m 45s (remain 0m 41s) Loss: 0.4079 Grad: 66509.6562  LR: 0.00000242  \n",
      "Epoch: [4][100/155] Elapsed 0m 56s (remain 0m 30s) Loss: 0.4059 Grad: 87526.3906  LR: 0.00000204  \n",
      "Epoch: [4][120/155] Elapsed 1m 7s (remain 0m 19s) Loss: 0.4059 Grad: 65050.7070  LR: 0.00000169  \n",
      "Epoch: [4][140/155] Elapsed 1m 19s (remain 0m 7s) Loss: 0.4042 Grad: 45800.6992  LR: 0.00000137  \n",
      "Epoch: [4][154/155] Elapsed 1m 26s (remain 0m 0s) Loss: 0.4041 Grad: 58920.8164  LR: 0.00000116  \n"
     ]
    },
    {
     "data": {
      "application/vnd.jupyter.widget-view+json": {
       "model_id": "fc8fc0b820e1432493af7cedda3965f8",
       "version_major": 2,
       "version_minor": 0
      },
      "text/plain": [
       "Validation:   0%|          | 0/78 [00:00<?, ?valid_batch/s]"
      ]
     },
     "metadata": {},
     "output_type": "display_data"
    },
    {
     "name": "stdout",
     "output_type": "stream",
     "text": [
      "EVAL: [0/78] Elapsed 0m 0s (remain 0m 16s) Loss: 0.4471 \n",
      "EVAL: [20/78] Elapsed 0m 4s (remain 0m 11s) Loss: 0.4501 \n",
      "EVAL: [40/78] Elapsed 0m 8s (remain 0m 7s) Loss: 0.4575 \n",
      "EVAL: [60/78] Elapsed 0m 12s (remain 0m 3s) Loss: 0.4076 \n"
     ]
    },
    {
     "name": "stderr",
     "output_type": "stream",
     "text": [
      "Epoch 4 - avg_train_loss: 0.4041  avg_val_loss: 0.3685  time: 103s\n",
      "Epoch 4 - Score: 0.9971\n",
      "Epoch 4 - Save Best Score: 0.9971 Model\n"
     ]
    },
    {
     "name": "stdout",
     "output_type": "stream",
     "text": [
      "EVAL: [77/78] Elapsed 0m 15s (remain 0m 0s) Loss: 0.3685 \n"
     ]
    },
    {
     "data": {
      "application/vnd.jupyter.widget-view+json": {
       "model_id": "5321cfacf60641a8a371aa8b6ae4feb0",
       "version_major": 2,
       "version_minor": 0
      },
      "text/plain": [
       "Train:   0%|          | 0/155 [00:00<?, ?train_batch/s]"
      ]
     },
     "metadata": {},
     "output_type": "display_data"
    },
    {
     "name": "stdout",
     "output_type": "stream",
     "text": [
      "Epoch: [5][0/155] Elapsed 0m 0s (remain 1m 42s) Loss: 0.3957 Grad: 50737.3203  LR: 0.00000114  \n",
      "Epoch: [5][20/155] Elapsed 0m 11s (remain 1m 15s) Loss: 0.4082 Grad: 84983.5391  LR: 0.00000087  \n",
      "Epoch: [5][40/155] Elapsed 0m 23s (remain 1m 4s) Loss: 0.4036 Grad: 58541.2148  LR: 0.00000064  \n",
      "Epoch: [5][60/155] Elapsed 0m 34s (remain 0m 52s) Loss: 0.4023 Grad: 43240.8203  LR: 0.00000044  \n",
      "Epoch: [5][80/155] Elapsed 0m 45s (remain 0m 41s) Loss: 0.4055 Grad: 48067.9219  LR: 0.00000027  \n",
      "Epoch: [5][100/155] Elapsed 0m 56s (remain 0m 30s) Loss: 0.4069 Grad: 44936.4297  LR: 0.00000015  \n",
      "Epoch: [5][120/155] Elapsed 1m 7s (remain 0m 19s) Loss: 0.4040 Grad: 45317.4922  LR: 0.00000006  \n",
      "Epoch: [5][140/155] Elapsed 1m 19s (remain 0m 7s) Loss: 0.4047 Grad: 47709.1445  LR: 0.00000001  \n",
      "Epoch: [5][154/155] Elapsed 1m 27s (remain 0m 0s) Loss: 0.4042 Grad: 49101.6367  LR: 0.00000000  \n"
     ]
    },
    {
     "data": {
      "application/vnd.jupyter.widget-view+json": {
       "model_id": "09de930e220540d09bbcfe9f5c5e23f3",
       "version_major": 2,
       "version_minor": 0
      },
      "text/plain": [
       "Validation:   0%|          | 0/78 [00:00<?, ?valid_batch/s]"
      ]
     },
     "metadata": {},
     "output_type": "display_data"
    },
    {
     "name": "stdout",
     "output_type": "stream",
     "text": [
      "EVAL: [0/78] Elapsed 0m 0s (remain 0m 16s) Loss: 0.4488 \n",
      "EVAL: [20/78] Elapsed 0m 4s (remain 0m 11s) Loss: 0.4524 \n",
      "EVAL: [40/78] Elapsed 0m 8s (remain 0m 7s) Loss: 0.4599 \n",
      "EVAL: [60/78] Elapsed 0m 12s (remain 0m 3s) Loss: 0.4119 \n"
     ]
    },
    {
     "name": "stderr",
     "output_type": "stream",
     "text": [
      "Epoch 5 - avg_train_loss: 0.4042  avg_val_loss: 0.3744  time: 103s\n",
      "Epoch 5 - Score: 0.9970\n",
      "========== Fold: 0 result ==========\n",
      "Score: 0.9971\n",
      "========== CV ==========\n",
      "Score: 0.9971\n"
     ]
    },
    {
     "name": "stdout",
     "output_type": "stream",
     "text": [
      "EVAL: [77/78] Elapsed 0m 15s (remain 0m 0s) Loss: 0.3744 \n"
     ]
    }
   ],
   "source": [
    "if __name__ == '__main__':\n",
    "    def get_result(oof_df):\n",
    "        labels = oof_df[\"generated\"].values\n",
    "        preds = oof_df[\"preds\"].values\n",
    "        score = get_score(labels, preds)\n",
    "        LOGGER.info(f'Score: {score:<.4f}')\n",
    "    \n",
    "    if config.TRAIN:\n",
    "        oof_df = pd.DataFrame()\n",
    "        for fold in range(config.FOLDS):\n",
    "            if fold == 0:\n",
    "                _oof_df = train_loop(train_df, fold)\n",
    "                oof_df = pd.concat([oof_df, _oof_df])\n",
    "                LOGGER.info(f\"========== Fold: {fold} result ==========\")\n",
    "                get_result(_oof_df)\n",
    "        oof_df = oof_df.reset_index(drop=True)\n",
    "        LOGGER.info(f\"========== CV ==========\")\n",
    "        get_result(oof_df)\n",
    "        oof_df.to_csv(paths.OUTPUT_DIR + '/oof_df.csv', index=False)\n",
    "    if config.WANDB:\n",
    "        wandb.finish()"
   ]
  },
  {
   "cell_type": "code",
   "execution_count": 18,
   "metadata": {},
   "outputs": [
    {
     "data": {
      "text/html": [
       "<div>\n",
       "<style scoped>\n",
       "    .dataframe tbody tr th:only-of-type {\n",
       "        vertical-align: middle;\n",
       "    }\n",
       "\n",
       "    .dataframe tbody tr th {\n",
       "        vertical-align: top;\n",
       "    }\n",
       "\n",
       "    .dataframe thead th {\n",
       "        text-align: right;\n",
       "    }\n",
       "</style>\n",
       "<table border=\"1\" class=\"dataframe\">\n",
       "  <thead>\n",
       "    <tr style=\"text-align: right;\">\n",
       "      <th></th>\n",
       "      <th>id</th>\n",
       "      <th>text</th>\n",
       "      <th>generated</th>\n",
       "      <th>fold</th>\n",
       "      <th>preds</th>\n",
       "    </tr>\n",
       "  </thead>\n",
       "  <tbody>\n",
       "    <tr>\n",
       "      <th>0</th>\n",
       "      <td>0059830c</td>\n",
       "      <td>Cars. Cars have been around since they became ...</td>\n",
       "      <td>0</td>\n",
       "      <td>0.0</td>\n",
       "      <td>0.362839</td>\n",
       "    </tr>\n",
       "    <tr>\n",
       "      <th>1</th>\n",
       "      <td>005db917</td>\n",
       "      <td>Transportation is a large necessity in most co...</td>\n",
       "      <td>0</td>\n",
       "      <td>0.0</td>\n",
       "      <td>0.351552</td>\n",
       "    </tr>\n",
       "    <tr>\n",
       "      <th>2</th>\n",
       "      <td>008f63e3</td>\n",
       "      <td>\"America's love affair with it's vehicles seem...</td>\n",
       "      <td>0</td>\n",
       "      <td>0.0</td>\n",
       "      <td>0.350474</td>\n",
       "    </tr>\n",
       "    <tr>\n",
       "      <th>3</th>\n",
       "      <td>00940276</td>\n",
       "      <td>How often do you ride in a car? Do you drive a...</td>\n",
       "      <td>0</td>\n",
       "      <td>0.0</td>\n",
       "      <td>0.360876</td>\n",
       "    </tr>\n",
       "    <tr>\n",
       "      <th>4</th>\n",
       "      <td>00c39458</td>\n",
       "      <td>Cars are a wonderful thing. They are perhaps o...</td>\n",
       "      <td>0</td>\n",
       "      <td>0.0</td>\n",
       "      <td>0.372675</td>\n",
       "    </tr>\n",
       "    <tr>\n",
       "      <th>...</th>\n",
       "      <td>...</td>\n",
       "      <td>...</td>\n",
       "      <td>...</td>\n",
       "      <td>...</td>\n",
       "      <td>...</td>\n",
       "    </tr>\n",
       "    <tr>\n",
       "      <th>1239</th>\n",
       "      <td>82DE4E49CC52</td>\n",
       "      <td>Thomas Jefferson wrote determine never to be i...</td>\n",
       "      <td>1</td>\n",
       "      <td>0.0</td>\n",
       "      <td>0.850914</td>\n",
       "    </tr>\n",
       "    <tr>\n",
       "      <th>1240</th>\n",
       "      <td>82F7210163B5</td>\n",
       "      <td>When learning at school with other students wh...</td>\n",
       "      <td>1</td>\n",
       "      <td>0.0</td>\n",
       "      <td>0.849496</td>\n",
       "    </tr>\n",
       "    <tr>\n",
       "      <th>1241</th>\n",
       "      <td>82F7D233871E</td>\n",
       "      <td>Some schools have a program that pairs older s...</td>\n",
       "      <td>1</td>\n",
       "      <td>0.0</td>\n",
       "      <td>0.836759</td>\n",
       "    </tr>\n",
       "    <tr>\n",
       "      <th>1242</th>\n",
       "      <td>82F9FDBD6F98</td>\n",
       "      <td>My argument about the 10pm curfew for teenager...</td>\n",
       "      <td>1</td>\n",
       "      <td>0.0</td>\n",
       "      <td>0.830764</td>\n",
       "    </tr>\n",
       "    <tr>\n",
       "      <th>1243</th>\n",
       "      <td>830CCF8E0B23</td>\n",
       "      <td>Elective ClassesI believe that classes like ar...</td>\n",
       "      <td>1</td>\n",
       "      <td>0.0</td>\n",
       "      <td>0.842058</td>\n",
       "    </tr>\n",
       "  </tbody>\n",
       "</table>\n",
       "<p>1244 rows × 5 columns</p>\n",
       "</div>"
      ],
      "text/plain": [
       "                id                                               text  generated  fold     preds\n",
       "0         0059830c  Cars. Cars have been around since they became ...          0   0.0  0.362839\n",
       "1         005db917  Transportation is a large necessity in most co...          0   0.0  0.351552\n",
       "2         008f63e3  \"America's love affair with it's vehicles seem...          0   0.0  0.350474\n",
       "3         00940276  How often do you ride in a car? Do you drive a...          0   0.0  0.360876\n",
       "4         00c39458  Cars are a wonderful thing. They are perhaps o...          0   0.0  0.372675\n",
       "...            ...                                                ...        ...   ...       ...\n",
       "1239  82DE4E49CC52  Thomas Jefferson wrote determine never to be i...          1   0.0  0.850914\n",
       "1240  82F7210163B5  When learning at school with other students wh...          1   0.0  0.849496\n",
       "1241  82F7D233871E  Some schools have a program that pairs older s...          1   0.0  0.836759\n",
       "1242  82F9FDBD6F98  My argument about the 10pm curfew for teenager...          1   0.0  0.830764\n",
       "1243  830CCF8E0B23  Elective ClassesI believe that classes like ar...          1   0.0  0.842058\n",
       "\n",
       "[1244 rows x 5 columns]"
      ]
     },
     "execution_count": 18,
     "metadata": {},
     "output_type": "execute_result"
    }
   ],
   "source": [
    "oof_df[\"preds\"] = oof_df[\"preds\"].apply(lambda x: sigmoid(x))\n",
    "oof_df"
   ]
  },
  {
   "cell_type": "markdown",
   "metadata": {},
   "source": [
    "### <b><span style='color:#F1A424'>Confusion Matrix</span></b>\n"
   ]
  },
  {
   "cell_type": "code",
   "execution_count": 19,
   "metadata": {},
   "outputs": [
    {
     "data": {
      "text/plain": [
       "Text(0.5, 1.0, 'Confusion Matrix')"
      ]
     },
     "execution_count": 19,
     "metadata": {},
     "output_type": "execute_result"
    },
    {
     "data": {
      "image/png": "[encoded data removed]",
      "text/plain": [
       "<Figure size 800x600 with 2 Axes>"
      ]
     },
     "metadata": {},
     "output_type": "display_data"
    }
   ],
   "source": [
    "import matplotlib.pyplot as plt\n",
    "import pandas as pd\n",
    "import seaborn as sns\n",
    "\n",
    "from sklearn.metrics import confusion_matrix\n",
    "\n",
    "def binarize(x, threshold):\n",
    "    if x > threshold:\n",
    "        x = 1\n",
    "    else:\n",
    "        x = 0\n",
    "    return x\n",
    "\n",
    "# Assuming df is your pandas DataFrame\n",
    "oof_df[\"binary\"] = oof_df[\"preds\"].apply(lambda x: binarize(x, 0.5))\n",
    "true_labels = oof_df[\"generated\"].values\n",
    "predicted_labels = oof_df[\"binary\"].values\n",
    "\n",
    "# Get the unique classes from both true and predicted labels\n",
    "classes = np.unique(np.concatenate((true_labels, predicted_labels)))\n",
    "\n",
    "# Compute the confusion matrix\n",
    "cm = confusion_matrix(true_labels, predicted_labels, labels=classes)\n",
    "plt.figure(figsize=(8, 6))\n",
    "sns.heatmap(cm, annot=True, fmt=\"d\", cmap=\"Blues\", xticklabels=classes, yticklabels=classes)\n",
    "plt.xlabel(\"Predicted Labels\")\n",
    "plt.ylabel(\"True Labels\")\n",
    "plt.title(\"Confusion Matrix\")"
   ]
  },
  {
   "cell_type": "code",
   "execution_count": 20,
   "metadata": {},
   "outputs": [
    {
     "name": "stdout",
     "output_type": "stream",
     "text": [
      "  adding: kaggle/working/output/ (stored 0%)\n",
      "  adding: kaggle/working/output/config.pth (deflated 50%)\n",
      "  adding: kaggle/working/output/bettertextapp_gpt2-large-detector-de-v1_fold_0_best.pth (deflated 26%)\n",
      "  adding: kaggle/working/output/oof_df.csv (deflated 68%)\n",
      "  adding: kaggle/working/output/.DS_Store (deflated 91%)\n",
      "  adding: kaggle/working/output/tokenizer/ (stored 0%)\n",
      "  adding: kaggle/working/output/tokenizer/tokenizer.json (deflated 76%)\n",
      "  adding: kaggle/working/output/tokenizer/special_tokens_map.json (deflated 51%)\n",
      "  adding: kaggle/working/output/tokenizer/added_tokens.json (stored 0%)\n",
      "  adding: kaggle/working/output/tokenizer/tokenizer_config.json (deflated 79%)\n",
      "  adding: kaggle/working/output/tokenizer/.DS_Store (deflated 97%)\n",
      "  adding: kaggle/working/output/tokenizer/sentencepiece.bpe.model (deflated 49%)\n"
     ]
    }
   ],
   "source": [
    "!zip -r output.zip ./kaggle/working/output"
   ]
  },
  {
   "cell_type": "code",
   "execution_count": 21,
   "metadata": {},
   "outputs": [
    {
     "name": "stdout",
     "output_type": "stream",
     "text": [
      "Training End\n"
     ]
    }
   ],
   "source": [
    "print('Training End')"
   ]
  },
  {
   "cell_type": "code",
   "execution_count": null,
   "metadata": {},
   "outputs": [],
   "source": []
  }
 ],
 "metadata": {
  "kernelspec": {
   "display_name": "Python 3 (ipykernel)",
   "language": "python",
   "name": "python3"
  },
  "language_info": {
   "codemirror_mode": {
    "name": "ipython",
    "version": 3
   },
   "file_extension": ".py",
   "mimetype": "text/x-python",
   "name": "python",
   "nbconvert_exporter": "python",
   "pygments_lexer": "ipython3",
   "version": "3.8.10"
  }
 },
 "nbformat": 4,
 "nbformat_minor": 4
}
